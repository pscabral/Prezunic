{
  "nbformat": 4,
  "nbformat_minor": 0,
  "metadata": {
    "colab": {
      "provenance": [],
      "authorship_tag": "ABX9TyNLJcq+hnEQBTEEGOcIti2S",
      "include_colab_link": true
    },
    "kernelspec": {
      "name": "python3",
      "display_name": "Python 3"
    },
    "language_info": {
      "name": "python"
    }
  },
  "cells": [
    {
      "cell_type": "markdown",
      "metadata": {
        "id": "view-in-github",
        "colab_type": "text"
      },
      "source": [
        "<a href=\"https://colab.research.google.com/github/pscabral/Prezunic/blob/main/ModeloVGG16.ipynb\" target=\"_parent\"><img src=\"https://colab.research.google.com/assets/colab-badge.svg\" alt=\"Open In Colab\"/></a>"
      ]
    },
    {
      "cell_type": "code",
      "execution_count": 1,
      "metadata": {
        "colab": {
          "base_uri": "https://localhost:8080/"
        },
        "id": "RV-crMDWd4JM",
        "outputId": "1f083a50-30b8-4044-884b-6ce06976e6c6"
      },
      "outputs": [
        {
          "output_type": "stream",
          "name": "stdout",
          "text": [
            "Cloning into 'Fruit-Images-Dataset'...\n",
            "remote: Enumerating objects: 385858, done.\u001b[K\n",
            "remote: Counting objects: 100% (8693/8693), done.\u001b[K\n",
            "remote: Compressing objects: 100% (8659/8659), done.\u001b[K\n",
            "remote: Total 385858 (delta 37), reused 8688 (delta 34), pack-reused 377165\u001b[K\n",
            "Receiving objects: 100% (385858/385858), 2.10 GiB | 21.58 MiB/s, done.\n",
            "Resolving deltas: 100% (1197/1197), done.\n",
            "Updating files: 100% (90503/90503), done.\n"
          ]
        }
      ],
      "source": [
        "!git clone https://github.com/Horea94/Fruit-Images-Dataset"
      ]
    },
    {
      "cell_type": "code",
      "source": [
        "import os\n",
        "\n",
        "# Diretório raiz\n",
        "root_directory = '/content/Fruit-Images-Dataset/Validation'\n",
        "\n",
        "# Lista de subpastas\n",
        "subfolders = [\n",
        "    'apple_6',\n",
        "    'apple_braeburn_1',\n",
        "    'apple_crimson_snow_1',\n",
        "    'apple_golden_1',\n",
        "    'apple_golden_2',\n",
        "    'apple_golden_3',\n",
        "    'apple_granny_smith_1',\n",
        "    'apple_hit_1',\n",
        "    'apple_pink_lady_1',\n",
        "    'apple_red_1',\n",
        "    'apple_red_2',\n",
        "    'apple_red_3',\n",
        "    'apple_red_delicious_1',\n",
        "    'apple_red_yellow_1',\n",
        "    'apple_rotten_1',\n",
        "    'cabbage_white_1',\n",
        "    'carrot_1',\n",
        "    'cucumber_1',\n",
        "    'cucumber_3',\n",
        "    'eggplant_violet_1',\n",
        "    'pear_1',\n",
        "    'pear_3',\n",
        "    'zucchini_1',\n",
        "    'zucchini_dark_1'\n",
        "]\n",
        "\n",
        "# Crie a estrutura de pastas\n",
        "for folder in subfolders:\n",
        "    folder_path = os.path.join(root_directory, folder)\n",
        "    os.makedirs(folder_path, exist_ok=True)"
      ],
      "metadata": {
        "id": "Uc1-pQSLfy4W"
      },
      "execution_count": 2,
      "outputs": []
    },
    {
      "cell_type": "code",
      "source": [
        "# Importe as bibliotecas necessárias\n",
        "import numpy as np  # Importa a biblioteca NumPy para cálculos de álgebra linear\n",
        "import pandas as pd  # Importa a biblioteca Pandas para manipulação de dados, incluindo leitura de arquivos CSV\n",
        "\n",
        "# Os dados de entrada estão disponíveis no diretório somente leitura \"/content/Fruit-Images-Dataset\"\n",
        "# Por exemplo, executar isto (clicando em Executar ou pressionando Shift+Enter) listará todos os arquivos no diretório de entrada\n",
        "\n",
        "import os  # Importa a biblioteca os, que permite interagir com o sistema de arquivos\n",
        "for dirname, _, filenames in os.walk('/content/Fruit-Images-Dataset'):\n",
        "    for filename in filenames:\n",
        "        # Combina o diretório e o nome do arquivo para obter o caminho completo do arquivo\n",
        "        print(os.path.join(dirname, filename))"
      ],
      "metadata": {
        "id": "PFCIX7MNzLRv"
      },
      "execution_count": null,
      "outputs": []
    },
    {
      "cell_type": "code",
      "source": [
        "# Importando as bibliotecas necessárias\n",
        "from keras.preprocessing.image import ImageDataGenerator, img_to_array, load_img\n",
        "from keras.models import Sequential\n",
        "from keras.layers import Dense\n",
        "import matplotlib.pyplot as plt\n",
        "from glob import glob\n",
        "from keras.applications.vgg16 import VGG16\n",
        "\n",
        "# Definindo um gerador de dados de imagem (ImageDataGenerator)\n",
        "# que será usado para aumentar o conjunto de dados de imagens.\n",
        "datagen = ImageDataGenerator(rescale=1./255)\n",
        "\n",
        "# Definindo os caminhos para os diretórios de treinamento e teste\n",
        "train_dir = '/content/Fruit-Images-Dataset/Training'\n",
        "test_dir = '/content/Fruit-Images-Dataset/Test'\n",
        "\n",
        "# Configurando um gerador de dados para o conjunto de treinamento\n",
        "train_generator = datagen.flow_from_directory(\n",
        "    train_dir,\n",
        "    target_size=(224, 224),  # Tamanho desejado das imagens (pode ser ajustado)\n",
        "    batch_size=32,\n",
        "    class_mode='categorical'  # Modo de classificação\n",
        ")\n",
        "\n",
        "# Configurando um gerador de dados para o conjunto de teste\n",
        "test_generator = datagen.flow_from_directory(\n",
        "    test_dir,\n",
        "    target_size=(224, 224),  # Tamanho desejado das imagens (pode ser ajustado)\n",
        "    batch_size=32,\n",
        "    class_mode='categorical'  # Modo de classificação\n",
        ")\n",
        "\n",
        "# Criando um modelo sequencial\n",
        "model = Sequential()\n",
        "\n",
        "# Carregando o modelo pré-treinado VGG16\n",
        "vgg_model = VGG16(weights='imagenet', include_top=False, input_shape=(224, 224, 3))\n",
        "\n",
        "# Adicionando a parte do modelo VGG16 ao modelo sequencial\n",
        "model.add(vgg_model)\n",
        "\n",
        "# Adicionando camadas personalizadas ao modelo sequencial\n",
        "model.add(Dense(units=131, activation='relu'))  # Modifique o número de unidades de acordo com sua necessidade\n",
        "\n",
        "# Adicionando camada de saída com ativação softmax\n",
        "number_of_classes = 131  # Substitua 131 pelo número real de classes\n",
        "model.add(Dense(units=number_of_classes, activation='softmax'))\n",
        "\n",
        "# Compilando o modelo\n",
        "model.compile(optimizer='adam', loss='categorical_crossentropy', metrics=['accuracy'])"
      ],
      "metadata": {
        "colab": {
          "base_uri": "https://localhost:8080/"
        },
        "id": "-iUs6Ril0UaT",
        "outputId": "e3f0e189-e932-40e9-9fbf-b6d7bd26ec4d"
      },
      "execution_count": 5,
      "outputs": [
        {
          "output_type": "stream",
          "name": "stdout",
          "text": [
            "Found 67692 images belonging to 131 classes.\n",
            "Found 22688 images belonging to 131 classes.\n"
          ]
        }
      ]
    },
    {
      "cell_type": "code",
      "source": [
        "# Caminho para o diretório de treinamento das imagens\n",
        "train_path = \"../content/Fruit-Images-Dataset/Training\"\n",
        "\n",
        "# Caminho para o diretório de teste das imagens\n",
        "test_path = \"../content/Fruit-Images-Dataset/Test\""
      ],
      "metadata": {
        "id": "Bf2d_G4N0a-K"
      },
      "execution_count": 6,
      "outputs": []
    },
    {
      "cell_type": "code",
      "source": [
        "# Carrega uma imagem de exemplo do diretório de treinamento (no caso, uma maçã da variedade 'Apple Braeburn')\n",
        "img = load_img(train_path + '/Apple Braeburn/101_100.jpg')\n",
        "\n",
        "# Configura a plotagem da imagem\n",
        "plt.axis('off')  # Desativa a exibição dos eixos (sem marcações)\n",
        "plt.imshow(img)  # Exibe a imagem carregada"
      ],
      "metadata": {
        "colab": {
          "base_uri": "https://localhost:8080/",
          "height": 423
        },
        "id": "U1HlUDjz0iuo",
        "outputId": "dbf1d7f9-e234-4dc4-b30f-bd0cc94ecf28"
      },
      "execution_count": 7,
      "outputs": [
        {
          "output_type": "execute_result",
          "data": {
            "text/plain": [
              "<matplotlib.image.AxesImage at 0x7dd060b20280>"
            ]
          },
          "metadata": {},
          "execution_count": 7
        },
        {
          "output_type": "display_data",
          "data": {
            "text/plain": [
              "<Figure size 640x480 with 1 Axes>"
            ],
            "image/png": "[encoded data removed]"
          },
          "metadata": {}
        }
      ]
    },
    {
      "cell_type": "code",
      "source": [
        "# Converte a imagem carregada em um array\n",
        "x = img_to_array(img)\n",
        "\n",
        "# Exibe a forma (shape) do array resultante\n",
        "print(x.shape)"
      ],
      "metadata": {
        "colab": {
          "base_uri": "https://localhost:8080/"
        },
        "id": "WR2qjpU30n5P",
        "outputId": "c6507505-9c6e-4959-f366-dfae6cdf931d"
      },
      "execution_count": 8,
      "outputs": [
        {
          "output_type": "stream",
          "name": "stdout",
          "text": [
            "(100, 100, 3)\n"
          ]
        }
      ]
    },
    {
      "cell_type": "code",
      "source": [
        "# Obtém a lista de diretórios no diretório de treinamento, onde cada diretório representa uma classe\n",
        "lista_de_classes = glob(train_path + '/*')\n",
        "\n",
        "# Calcula o número de classes no conjunto de dados de treinamento\n",
        "numero_de_classes = len(lista_de_classes)\n",
        "\n",
        "# Exibe o número de classes\n",
        "numero_de_classes"
      ],
      "metadata": {
        "colab": {
          "base_uri": "https://localhost:8080/"
        },
        "id": "JHnEcKYr0qzo",
        "outputId": "1bef7e68-146b-405a-9fae-d6a2d696bce4"
      },
      "execution_count": 9,
      "outputs": [
        {
          "output_type": "execute_result",
          "data": {
            "text/plain": [
              "131"
            ]
          },
          "metadata": {},
          "execution_count": 9
        }
      ]
    },
    {
      "cell_type": "code",
      "source": [
        "# Cria uma instância do modelo VGG16\n",
        "vgg = VGG16()"
      ],
      "metadata": {
        "id": "FW3qCSZt0rUd"
      },
      "execution_count": 10,
      "outputs": []
    },
    {
      "cell_type": "code",
      "source": [
        "# Imprime um resumo da arquitetura do modelo VGG16\n",
        "print(vgg.summary())"
      ],
      "metadata": {
        "id": "wnzUJ3Yy0091"
      },
      "execution_count": null,
      "outputs": []
    },
    {
      "cell_type": "code",
      "source": [
        "# Obtém a lista de camadas do modelo VGG16\n",
        "vgg_layer_list = vgg.layers\n",
        "\n",
        "# Imprime a lista de camadas\n",
        "print(vgg_layer_list)"
      ],
      "metadata": {
        "colab": {
          "base_uri": "https://localhost:8080/"
        },
        "id": "pVanUiMq07PP",
        "outputId": "49c0aab5-d3a0-4813-e245-573a4e8c5d44"
      },
      "execution_count": 12,
      "outputs": [
        {
          "output_type": "stream",
          "name": "stdout",
          "text": [
            "[<keras.src.engine.input_layer.InputLayer object at 0x7dd060b22e30>, <keras.src.layers.convolutional.conv2d.Conv2D object at 0x7dd08bbd6740>, <keras.src.layers.convolutional.conv2d.Conv2D object at 0x7dcffa4fb520>, <keras.src.layers.pooling.max_pooling2d.MaxPooling2D object at 0x7dcffa4fbc40>, <keras.src.layers.convolutional.conv2d.Conv2D object at 0x7dcffa4fb910>, <keras.src.layers.convolutional.conv2d.Conv2D object at 0x7dcffa358cd0>, <keras.src.layers.pooling.max_pooling2d.MaxPooling2D object at 0x7dcffa35a530>, <keras.src.layers.convolutional.conv2d.Conv2D object at 0x7dcffa35acb0>, <keras.src.layers.convolutional.conv2d.Conv2D object at 0x7dcffa35b250>, <keras.src.layers.convolutional.conv2d.Conv2D object at 0x7dcffa35ba30>, <keras.src.layers.pooling.max_pooling2d.MaxPooling2D object at 0x7dcffa368340>, <keras.src.layers.convolutional.conv2d.Conv2D object at 0x7dcffa35bb50>, <keras.src.layers.convolutional.conv2d.Conv2D object at 0x7dcffa3693f0>, <keras.src.layers.convolutional.conv2d.Conv2D object at 0x7dcffa36a1a0>, <keras.src.layers.pooling.max_pooling2d.MaxPooling2D object at 0x7dcffa36b2b0>, <keras.src.layers.convolutional.conv2d.Conv2D object at 0x7dcffa36bac0>, <keras.src.layers.convolutional.conv2d.Conv2D object at 0x7dcffa369990>, <keras.src.layers.convolutional.conv2d.Conv2D object at 0x7dcffa358bb0>, <keras.src.layers.pooling.max_pooling2d.MaxPooling2D object at 0x7dcffa36a3b0>, <keras.src.layers.reshaping.flatten.Flatten object at 0x7dcffa3589a0>, <keras.src.layers.core.dense.Dense object at 0x7dcffa388c40>, <keras.src.layers.core.dense.Dense object at 0x7dcffa389d50>, <keras.src.layers.core.dense.Dense object at 0x7dcffa38a8f0>]\n"
          ]
        }
      ]
    },
    {
      "cell_type": "code",
      "source": [
        "# Calcula e imprime o número de camadas no modelo VGG16\n",
        "numero_de_camadas = len(vgg_layer_list)\n",
        "print(\"Número de camadas no modelo VGG16:\", numero_de_camadas)"
      ],
      "metadata": {
        "colab": {
          "base_uri": "https://localhost:8080/"
        },
        "id": "AaMCARNr1A5-",
        "outputId": "5ce7ecf9-914a-471d-b2e7-8c023b80dc47"
      },
      "execution_count": 13,
      "outputs": [
        {
          "output_type": "stream",
          "name": "stdout",
          "text": [
            "Número de camadas no modelo VGG16: 23\n"
          ]
        }
      ]
    },
    {
      "cell_type": "code",
      "source": [
        "# Cria um modelo sequencial vazio\n",
        "model = Sequential()\n",
        "\n",
        "# Itera através das camadas do modelo VGG16 (exceto a última)\n",
        "for i in range(len(vgg_layer_list) - 1):\n",
        "    # Adiciona a camada atual à arquitetura do modelo sequencial\n",
        "    model.add(vgg_layer_list[i])"
      ],
      "metadata": {
        "id": "ORZmsd571Dob"
      },
      "execution_count": 14,
      "outputs": []
    },
    {
      "cell_type": "code",
      "source": [
        "# Imprime um resumo da arquitetura do modelo sequencial criado\n",
        "print(model.summary())"
      ],
      "metadata": {
        "id": "sIR6ELgc1IjJ"
      },
      "execution_count": null,
      "outputs": []
    },
    {
      "cell_type": "code",
      "source": [
        "#caso precisa volar a anterior\n",
        "# Itera sobre todas as camadas do modelo e define cada camada como não treinável.\n",
        "#for layer in model.layers:\n",
        "# layer.trainable = False\n",
        "# Adiciona uma nova camada densa de saída com ativação softmax para classificar os dados em 'numberOfClass' classes.\n",
        "#model.add(Dense(numberOfClass, activation=\"softmax\"))\n",
        "\n",
        "numberOfClass = 131  # Substitua 131 pelo número real de classes\n",
        "\n",
        "# Adicione uma nova camada densa de saída com ativação softmax para as 131 classes\n",
        "model.add(Dense(numberOfClass, activation=\"softmax\"))\n",
        "\n",
        "# Congele as camadas existentes do modelo, tornando-as não treináveis\n",
        "for camada in model.layers:\n",
        "    camada.trainable = False"
      ],
      "metadata": {
        "id": "zQeLnq7V1QsZ"
      },
      "execution_count": 16,
      "outputs": []
    },
    {
      "cell_type": "code",
      "source": [
        "# Exibe um resumo do modelo, incluindo informações sobre suas camadas, parâmetros e arquitetura.\n",
        "print(model.summary())"
      ],
      "metadata": {
        "colab": {
          "base_uri": "https://localhost:8080/"
        },
        "id": "d7rSXJh21R-h",
        "outputId": "193ffb34-e8ea-4c26-9dea-91877a74c318"
      },
      "execution_count": 17,
      "outputs": [
        {
          "output_type": "stream",
          "name": "stdout",
          "text": [
            "Model: \"sequential_1\"\n",
            "_________________________________________________________________\n",
            " Layer (type)                Output Shape              Param #   \n",
            "=================================================================\n",
            " block1_conv1 (Conv2D)       (None, 224, 224, 64)      1792      \n",
            "                                                                 \n",
            " block1_conv2 (Conv2D)       (None, 224, 224, 64)      36928     \n",
            "                                                                 \n",
            " block1_pool (MaxPooling2D)  (None, 112, 112, 64)      0         \n",
            "                                                                 \n",
            " block2_conv1 (Conv2D)       (None, 112, 112, 128)     73856     \n",
            "                                                                 \n",
            " block2_conv2 (Conv2D)       (None, 112, 112, 128)     147584    \n",
            "                                                                 \n",
            " block2_pool (MaxPooling2D)  (None, 56, 56, 128)       0         \n",
            "                                                                 \n",
            " block3_conv1 (Conv2D)       (None, 56, 56, 256)       295168    \n",
            "                                                                 \n",
            " block3_conv2 (Conv2D)       (None, 56, 56, 256)       590080    \n",
            "                                                                 \n",
            " block3_conv3 (Conv2D)       (None, 56, 56, 256)       590080    \n",
            "                                                                 \n",
            " block3_pool (MaxPooling2D)  (None, 28, 28, 256)       0         \n",
            "                                                                 \n",
            " block4_conv1 (Conv2D)       (None, 28, 28, 512)       1180160   \n",
            "                                                                 \n",
            " block4_conv2 (Conv2D)       (None, 28, 28, 512)       2359808   \n",
            "                                                                 \n",
            " block4_conv3 (Conv2D)       (None, 28, 28, 512)       2359808   \n",
            "                                                                 \n",
            " block4_pool (MaxPooling2D)  (None, 14, 14, 512)       0         \n",
            "                                                                 \n",
            " block5_conv1 (Conv2D)       (None, 14, 14, 512)       2359808   \n",
            "                                                                 \n",
            " block5_conv2 (Conv2D)       (None, 14, 14, 512)       2359808   \n",
            "                                                                 \n",
            " block5_conv3 (Conv2D)       (None, 14, 14, 512)       2359808   \n",
            "                                                                 \n",
            " block5_pool (MaxPooling2D)  (None, 7, 7, 512)         0         \n",
            "                                                                 \n",
            " flatten (Flatten)           (None, 25088)             0         \n",
            "                                                                 \n",
            " fc1 (Dense)                 (None, 4096)              102764544 \n",
            "                                                                 \n",
            " fc2 (Dense)                 (None, 4096)              16781312  \n",
            "                                                                 \n",
            " dense_2 (Dense)             (None, 131)               536707    \n",
            "                                                                 \n",
            "=================================================================\n",
            "Total params: 134797251 (514.21 MB)\n",
            "Trainable params: 0 (0.00 Byte)\n",
            "Non-trainable params: 134797251 (514.21 MB)\n",
            "_________________________________________________________________\n",
            "None\n"
          ]
        }
      ]
    },
    {
      "cell_type": "code",
      "source": [
        "# Compila o modelo com a função de perda 'categorical_crossentropy', o otimizador 'rmsprop' e métricas de avaliação de 'accuracy'.\n",
        "model.compile(loss='categorical_crossentropy',\n",
        "             optimizer='rmsprop',\n",
        "             metrics=['accuracy'])"
      ],
      "metadata": {
        "id": "sAqbVAUT1XWm"
      },
      "execution_count": 18,
      "outputs": []
    },
    {
      "cell_type": "code",
      "source": [
        "# Configura o gerador de dados de treinamento a partir do diretório 'train_path' e define o tamanho alvo das imagens como (224,224).\n",
        "train_data = ImageDataGenerator().flow_from_directory(train_path, target_size=(224, 224))\n",
        "\n",
        "# Configura o gerador de dados de teste a partir do diretório 'test_path' e define o tamanho alvo das imagens como (224,224).\n",
        "test_data = ImageDataGenerator().flow_from_directory(test_path, target_size=(224, 224))\n",
        "\n",
        "# Define o tamanho do lote (batch size) como 32 para o treinamento do modelo.\n",
        "batch_size = 32"
      ],
      "metadata": {
        "colab": {
          "base_uri": "https://localhost:8080/"
        },
        "id": "L2oiki4B1aWt",
        "outputId": "6d0d6f82-8e82-46cf-f370-a48137e2645d"
      },
      "execution_count": 19,
      "outputs": [
        {
          "output_type": "stream",
          "name": "stdout",
          "text": [
            "Found 67692 images belonging to 131 classes.\n",
            "Found 22688 images belonging to 131 classes.\n"
          ]
        }
      ]
    },
    {
      "cell_type": "code",
      "source": [
        "# Treina o modelo usando o gerador de dados de treinamento 'train_data' e define os seguintes parâmetros:\n",
        "# - steps_per_epoch: Número de etapas por época, que é calculado como 1600 dividido pelo tamanho do lote (batch_size).\n",
        "# - epochs: Número total de épocas de treinamento, neste caso, 25 épocas.\n",
        "# - validation_data: Utiliza o gerador de dados de teste 'test_data' para validação.\n",
        "# - validation_steps: Número de etapas de validação por época, calculado como 800 dividido pelo tamanho do lote (batch_size).\n",
        "hist = model.fit(train_data,\n",
        "                 steps_per_epoch=1600 // batch_size,\n",
        "                 epochs=2,\n",
        "                 validation_data=test_data,\n",
        "                 validation_steps=800 // batch_size)"
      ],
      "metadata": {
        "colab": {
          "base_uri": "https://localhost:8080/"
        },
        "id": "AzfHH97C17nt",
        "outputId": "cb3c5c8b-456d-42fb-f218-cf57237c2ead"
      },
      "execution_count": 20,
      "outputs": [
        {
          "output_type": "stream",
          "name": "stdout",
          "text": [
            "Epoch 1/2\n",
            "50/50 [==============================] - 1470s 30s/step - loss: 7.6740 - accuracy: 0.0106 - val_loss: 7.4700 - val_accuracy: 0.0188\n",
            "Epoch 2/2\n",
            "50/50 [==============================] - 1450s 29s/step - loss: 7.7472 - accuracy: 0.0100 - val_loss: 7.3984 - val_accuracy: 0.0162\n"
          ]
        }
      ]
    },
    {
      "cell_type": "code",
      "source": [
        "# Salva os pesos do modelo no diretório '/content/' com o nome 'deneme.h5'.\n",
        "model.save_weights('/content/deneme.h5')"
      ],
      "metadata": {
        "id": "RVOKw0LDNJPY"
      },
      "execution_count": 21,
      "outputs": []
    },
    {
      "cell_type": "code",
      "source": [
        "# Imprime as chaves disponíveis no dicionário hist.history, que contém informações de treinamento do modelo.\n",
        "print(hist.history.keys())"
      ],
      "metadata": {
        "colab": {
          "base_uri": "https://localhost:8080/"
        },
        "id": "O1hgDmWTNQt5",
        "outputId": "bcca3f30-6182-4105-f395-d5d74d827c9c"
      },
      "execution_count": 22,
      "outputs": [
        {
          "output_type": "stream",
          "name": "stdout",
          "text": [
            "dict_keys(['loss', 'accuracy', 'val_loss', 'val_accuracy'])\n"
          ]
        }
      ]
    },
    {
      "cell_type": "code",
      "source": [
        "# Plota as curvas de perda do treinamento e validação.\n",
        "plt.plot(hist.history['loss'], label=\"training loss\")\n",
        "plt.plot(hist.history['val_loss'], label=\"Validation loss\")\n",
        "plt.legend()  # Adiciona uma legenda ao gráfico\n",
        "plt.show()  # Exibe o gráfico"
      ],
      "metadata": {
        "colab": {
          "base_uri": "https://localhost:8080/",
          "height": 430
        },
        "id": "XdULmt8CNYfe",
        "outputId": "59b69203-f3c7-4ee4-dfa7-1564963483a2"
      },
      "execution_count": 23,
      "outputs": [
        {
          "output_type": "display_data",
          "data": {
            "text/plain": [
              "<Figure size 640x480 with 1 Axes>"
            ],
            "image/png": "[encoded data removed]"
          },
          "metadata": {}
        }
      ]
    },
    {
      "cell_type": "code",
      "source": [
        "# Plota as curvas de precisão do treinamento e validação.\n",
        "plt.plot(hist.history['accuracy'], label=\"accuracy\")\n",
        "plt.plot(hist.history['val_accuracy'], label=\"Validation accuracy\")\n",
        "plt.legend()  # Adiciona uma legenda ao gráfico\n",
        "plt.show()  # Exibe o gráfico"
      ],
      "metadata": {
        "colab": {
          "base_uri": "https://localhost:8080/",
          "height": 430
        },
        "id": "lciBzUAqNsZX",
        "outputId": "1629cc14-d526-4472-cc3e-a3b619bc11d7"
      },
      "execution_count": 24,
      "outputs": [
        {
          "output_type": "display_data",
          "data": {
            "text/plain": [
              "<Figure size 640x480 with 1 Axes>"
            ],
            "image/png": "[encoded data removed]"
          },
          "metadata": {}
        }
      ]
    },
    {
      "cell_type": "code",
      "source": [
        "# Salva o histórico de treinamento no diretório '/content/' com o nome 'deneme.json' em formato JSON.\n",
        "import json, codecs\n",
        "with open('/content/deneme.json', 'w') as f:\n",
        "    json.dump(hist.history, f)"
      ],
      "metadata": {
        "id": "fF1T-VaENt3n"
      },
      "execution_count": 25,
      "outputs": []
    }
  ]
}