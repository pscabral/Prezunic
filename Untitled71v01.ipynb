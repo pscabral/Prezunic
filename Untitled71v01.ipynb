{
  "nbformat": 4,
  "nbformat_minor": 0,
  "metadata": {
    "colab": {
      "provenance": [],
      "authorship_tag": "ABX9TyPk5A7wQWe8jQbQdcmEflLJ",
      "include_colab_link": true
    },
    "kernelspec": {
      "name": "python3",
      "display_name": "Python 3"
    },
    "language_info": {
      "name": "python"
    }
  },
  "cells": [
    {
      "cell_type": "markdown",
      "metadata": {
        "id": "view-in-github",
        "colab_type": "text"
      },
      "source": [
        "<a href=\"https://colab.research.google.com/github/pscabral/Prezunic/blob/main/Untitled71v01.ipynb\" target=\"_parent\"><img src=\"https://colab.research.google.com/assets/colab-badge.svg\" alt=\"Open In Colab\"/></a>"
      ]
    },
    {
      "cell_type": "code",
      "execution_count": 1,
      "metadata": {
        "colab": {
          "base_uri": "https://localhost:8080/"
        },
        "id": "x6TFXfFqr7UO",
        "outputId": "1e453b95-af50-499d-cb6d-8eb02ea14f08"
      },
      "outputs": [
        {
          "output_type": "stream",
          "name": "stdout",
          "text": [
            "Cloning into 'GroceryStoreDataset'...\n",
            "remote: Enumerating objects: 6559, done.\u001b[K\n",
            "remote: Counting objects: 100% (266/266), done.\u001b[K\n",
            "remote: Compressing objects: 100% (231/231), done.\u001b[K\n",
            "remote: Total 6559 (delta 45), reused 35 (delta 35), pack-reused 6293\u001b[K\n",
            "Receiving objects: 100% (6559/6559), 116.26 MiB | 46.36 MiB/s, done.\n",
            "Resolving deltas: 100% (275/275), done.\n"
          ]
        }
      ],
      "source": [
        "!git clone https://github.com/marcusklasson/GroceryStoreDataset"
      ]
    },
    {
      "cell_type": "code",
      "source": [
        "# Instalação do TensorFlow (descomente a linha abaixo se o TensorFlow não estiver instalado)\n",
        "!pip install tensorflow\n",
        "\n",
        "# Importação de recursos futuros do Python para compatibilidade\n",
        "from __future__ import absolute_import\n",
        "from __future__ import division\n",
        "from __future__ import print_function\n",
        "\n",
        "# Importação de bibliotecas\n",
        "import collections\n",
        "import math\n",
        "import os\n",
        "import random\n",
        "from six.moves import urllib\n",
        "import io\n",
        "import shutil\n",
        "\n",
        "# Importações para visualização no IPython\n",
        "from IPython.display import clear_output, Image, display, HTML\n",
        "\n",
        "# Importações para aprendizado de máquina com TensorFlow e Keras\n",
        "import tensorflow as tf\n",
        "import tensorflow_hub as hub\n",
        "\n",
        "# Importações adicionais\n",
        "import numpy as np\n",
        "import matplotlib.pyplot as plt\n",
        "import seaborn as sns\n",
        "import sklearn.metrics as sk_metrics\n",
        "import time\n",
        "from tensorflow.keras.applications.resnet50 import preprocess_input\n",
        "from tensorflow.keras.preprocessing.image import ImageDataGenerator\n",
        "from keras import optimizers\n",
        "\n",
        "# Importações específicas para modelos de redes neurais\n",
        "from keras.applications.inception_v3 import InceptionV3\n",
        "from keras.applications.resnet50 import preprocess_input, decode_predictions, ResNet50\n",
        "from keras.preprocessing import image\n",
        "from keras import regularizers\n",
        "from keras.models import Model\n",
        "from keras.layers import Dense, GlobalAveragePooling2D, BatchNormalization, Dropout, Flatten\n",
        "from keras import backend as K"
      ],
      "metadata": {
        "id": "cOp_fiS4APVB"
      },
      "execution_count": null,
      "outputs": []
    },
    {
      "cell_type": "code",
      "source": [
        "from keras import layers\n",
        "from keras import models\n",
        "\n",
        "model = models.Sequential()\n",
        "model.add(layers.Conv2D(32, (3, 3), activation='relu',\n",
        "                        input_shape=(224, 224, 3)))\n",
        "model.add(layers.MaxPooling2D((2, 2)))\n",
        "model.add(layers.Conv2D(64, (3, 3), activation='relu'))\n",
        "model.add(layers.MaxPooling2D((2, 2)))\n",
        "model.add(layers.Conv2D(128, (3, 3), activation='relu'))\n",
        "model.add(layers.MaxPooling2D((2, 2)))\n",
        "model.add(layers.Conv2D(128, (3, 3), activation='relu'))\n",
        "model.add(layers.MaxPooling2D((2, 2)))\n",
        "model.add(layers.Flatten())\n",
        "model.add(layers.Dense(512, activation='relu'))\n",
        "model.add(layers.Dense(3, activation='softmax'))\n",
        "model.summary()"
      ],
      "metadata": {
        "id": "Zziat-ToA8vo"
      },
      "execution_count": null,
      "outputs": []
    },
    {
      "cell_type": "code",
      "source": [
        "from tensorflow.keras.preprocessing.image import ImageDataGenerator\n",
        "from tensorflow.keras.applications import InceptionV3\n",
        "from tensorflow.keras.layers import Dense, GlobalAveragePooling2D\n",
        "from tensorflow.keras.models import Model\n",
        "from tensorflow.keras.optimizers import RMSprop\n",
        "from tensorflow.keras.callbacks import ModelCheckpoint, EarlyStopping\n",
        "\n",
        "# Caminho para o diretório de treinamento das imagens de bananas\n",
        "train_data_dir = '/content/GroceryStoreDataset/dataset/train/Fruit/'\n",
        "\n",
        "# Definir parâmetros para o pré-processamento das imagens\n",
        "image_size = (224, 224)\n",
        "batch_size = 32\n",
        "\n",
        "# Crie um gerador de dados para treinamento com aumento de dados\n",
        "train_datagen = ImageDataGenerator(\n",
        "    rescale=1./255,\n",
        "    shear_range=0.2,\n",
        "    zoom_range=0.2,\n",
        "    horizontal_flip=True,\n",
        "    validation_split=0.2)  # Usar 20% dos dados para validação\n",
        "\n",
        "# Crie geradores de dados para treinamento e validação\n",
        "train_generator = train_datagen.flow_from_directory(\n",
        "    train_data_dir,\n",
        "    target_size=image_size,\n",
        "    batch_size=batch_size,\n",
        "    class_mode='categorical',\n",
        "    subset='training')  # Use a porção de treinamento\n",
        "\n",
        "validation_generator = train_datagen.flow_from_directory(\n",
        "    train_data_dir,\n",
        "    target_size=image_size,\n",
        "    batch_size=batch_size,\n",
        "    class_mode='categorical',\n",
        "    subset='validation')  # Use a porção de validação\n",
        "\n",
        "# Crie um modelo baseado na arquitetura InceptionV3 (você pode ajustar a arquitetura conforme necessário)\n",
        "base_model = InceptionV3(weights='imagenet', include_top=False)\n",
        "\n",
        "# Adicione camadas personalizadas para classificação\n",
        "x = base_model.output\n",
        "x = GlobalAveragePooling2D()(x)\n",
        "x = Dense(1024, activation='relu')(x)\n",
        "predictions = Dense(train_generator.num_classes, activation='softmax')(x)\n",
        "\n",
        "# Crie o modelo final\n",
        "model = Model(inputs=base_model.input, outputs=predictions)\n",
        "\n",
        "# Compile o modelo com learning_rate em vez de lr\n",
        "model.compile(optimizer=RMSprop(learning_rate=0.0001),\n",
        "              loss='categorical_crossentropy',\n",
        "              metrics=['accuracy'])\n",
        "\n",
        "# Defina callbacks para parar o treinamento prematuramente se a validação não melhorar\n",
        "early_stopping = EarlyStopping(patience=5, restore_best_weights=True)\n",
        "\n",
        "# Treine o modelo\n",
        "history = model.fit(\n",
        "    train_generator,\n",
        "    steps_per_epoch=train_generator.samples // batch_size,\n",
        "    epochs=30,\n",
        "    validation_data=validation_generator,\n",
        "    validation_steps=validation_generator.samples // batch_size,\n",
        "    callbacks=[early_stopping])\n",
        "\n",
        "# Salve o modelo treinado\n",
        "model.save('classification_model.h5')"
      ],
      "metadata": {
        "id": "zAFOjleKBBEf"
      },
      "execution_count": null,
      "outputs": []
    },
    {
      "cell_type": "code",
      "source": [
        "from tensorflow.keras.preprocessing.image import ImageDataGenerator\n",
        "from tensorflow.keras.applications.inception_v3 import InceptionV3, preprocess_input\n",
        "from tensorflow.keras.layers import Dense, GlobalAveragePooling2D\n",
        "from tensorflow.keras.models import Model, load_model\n",
        "from tensorflow.keras.optimizers import RMSprop\n",
        "import numpy as np\n",
        "\n",
        "# Caminho para o diretório de teste das imagens\n",
        "test_data_dir = '/content/GroceryStoreDataset/dataset/test/Fruit/'\n",
        "\n",
        "# Definir parâmetros para o pré-processamento das imagens\n",
        "image_size = (224, 224)\n",
        "batch_size = 32\n",
        "\n",
        "# Crie um gerador de dados para teste\n",
        "test_datagen = ImageDataGenerator(rescale=1./255)\n",
        "\n",
        "# Crie um gerador de dados de teste\n",
        "test_generator = test_datagen.flow_from_directory(\n",
        "    test_data_dir,\n",
        "    target_size=image_size,\n",
        "    batch_size=batch_size,\n",
        "    class_mode='categorical'\n",
        ")\n",
        "\n",
        "# Carregue o modelo treinado\n",
        "model = load_model('classification_model.h5')  # Substitua pelo caminho do seu modelo\n",
        "\n",
        "# Avalie o modelo no conjunto de teste\n",
        "eval_result = model.evaluate(test_generator)\n",
        "\n",
        "# Exiba a precisão no conjunto de teste\n",
        "print(f'Acurácia no conjunto de teste: {eval_result[1]*100:.2f}%')"
      ],
      "metadata": {
        "colab": {
          "base_uri": "https://localhost:8080/"
        },
        "id": "UCjwWbf1ghzs",
        "outputId": "05bd16ad-5016-4479-e1ab-16b1d99bbb4b"
      },
      "execution_count": 12,
      "outputs": [
        {
          "output_type": "stream",
          "name": "stdout",
          "text": [
            "Found 1117 images belonging to 19 classes.\n",
            "35/35 [==============================] - 80s 2s/step - loss: 1.6939 - accuracy: 0.6705\n",
            "Acurácia no conjunto de teste: 67.05%\n"
          ]
        }
      ]
    },
    {
      "cell_type": "code",
      "source": [
        "import os\n",
        "\n",
        "# Diretório de treinamento\n",
        "train_data_dir = '/content/GroceryStoreDataset/dataset/train/Fruit/'\n",
        "\n",
        "# Diretório de validação\n",
        "validation_data_dir = '/content/GroceryStoreDataset/dataset/test/Fruit'\n",
        "\n",
        "# Obtém a lista de subdiretórios (classes) em ambos os diretórios\n",
        "train_classes = os.listdir(train_data_dir)\n",
        "validation_classes = os.listdir(validation_data_dir)\n",
        "\n",
        "# Verifica se as classes são as mesmas\n",
        "if set(train_classes) == set(validation_classes):\n",
        "    print(\"As mesmas classes estão presentes nos diretórios de treinamento e validação.\")\n",
        "else:\n",
        "    print(\"As classes nos diretórios de treinamento e validação não são as mesmas.\")"
      ],
      "metadata": {
        "colab": {
          "base_uri": "https://localhost:8080/"
        },
        "id": "0PlHe3tvhnPL",
        "outputId": "da9c518a-89cb-4388-83bf-2ddddbe1a8df"
      },
      "execution_count": 16,
      "outputs": [
        {
          "output_type": "stream",
          "name": "stdout",
          "text": [
            "As mesmas classes estão presentes nos diretórios de treinamento e validação.\n"
          ]
        }
      ]
    }
  ]
}