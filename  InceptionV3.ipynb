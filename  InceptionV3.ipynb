{
  "nbformat": 4,
  "nbformat_minor": 0,
  "metadata": {
    "colab": {
      "provenance": [],
      "authorship_tag": "ABX9TyNTL88ELcnRrcZddI7ApSpm",
      "include_colab_link": true
    },
    "kernelspec": {
      "name": "python3",
      "display_name": "Python 3"
    },
    "language_info": {
      "name": "python"
    }
  },
  "cells": [
    {
      "cell_type": "markdown",
      "metadata": {
        "id": "view-in-github",
        "colab_type": "text"
      },
      "source": [
        "<a href=\"https://colab.research.google.com/github/pscabral/Prezunic/blob/main/%20InceptionV3.ipynb\" target=\"_parent\"><img src=\"https://colab.research.google.com/assets/colab-badge.svg\" alt=\"Open In Colab\"/></a>"
      ]
    },
    {
      "cell_type": "code",
      "execution_count": 1,
      "metadata": {
        "colab": {
          "base_uri": "https://localhost:8080/"
        },
        "id": "RV-crMDWd4JM",
        "outputId": "1f083a50-30b8-4044-884b-6ce06976e6c6"
      },
      "outputs": [
        {
          "output_type": "stream",
          "name": "stdout",
          "text": [
            "Cloning into 'Fruit-Images-Dataset'...\n",
            "remote: Enumerating objects: 385858, done.\u001b[K\n",
            "remote: Counting objects: 100% (8693/8693), done.\u001b[K\n",
            "remote: Compressing objects: 100% (8659/8659), done.\u001b[K\n",
            "remote: Total 385858 (delta 37), reused 8688 (delta 34), pack-reused 377165\u001b[K\n",
            "Receiving objects: 100% (385858/385858), 2.10 GiB | 21.58 MiB/s, done.\n",
            "Resolving deltas: 100% (1197/1197), done.\n",
            "Updating files: 100% (90503/90503), done.\n"
          ]
        }
      ],
      "source": [
        "!git clone https://github.com/Horea94/Fruit-Images-Dataset"
      ]
    },
    {
      "cell_type": "code",
      "source": [
        "import os\n",
        "\n",
        "# Diretório raiz\n",
        "root_directory = '/content/Fruit-Images-Dataset/Validation'\n",
        "\n",
        "# Lista de subpastas\n",
        "subfolders = [\n",
        "    'apple_6',\n",
        "    'apple_braeburn_1',\n",
        "    'apple_crimson_snow_1',\n",
        "    'apple_golden_1',\n",
        "    'apple_golden_2',\n",
        "    'apple_golden_3',\n",
        "    'apple_granny_smith_1',\n",
        "    'apple_hit_1',\n",
        "    'apple_pink_lady_1',\n",
        "    'apple_red_1',\n",
        "    'apple_red_2',\n",
        "    'apple_red_3',\n",
        "    'apple_red_delicious_1',\n",
        "    'apple_red_yellow_1',\n",
        "    'apple_rotten_1',\n",
        "    'cabbage_white_1',\n",
        "    'carrot_1',\n",
        "    'cucumber_1',\n",
        "    'cucumber_3',\n",
        "    'eggplant_violet_1',\n",
        "    'pear_1',\n",
        "    'pear_3',\n",
        "    'zucchini_1',\n",
        "    'zucchini_dark_1'\n",
        "]\n",
        "\n",
        "# Crie a estrutura de pastas\n",
        "for folder in subfolders:\n",
        "    folder_path = os.path.join(root_directory, folder)\n",
        "    os.makedirs(folder_path, exist_ok=True)"
      ],
      "metadata": {
        "id": "Uc1-pQSLfy4W"
      },
      "execution_count": 2,
      "outputs": []
    },
    {
      "cell_type": "code",
      "source": [
        "# Imports: Importa as bibliotecas e módulos necessários para construir o modelo de rede neural\n",
        "from tensorflow import keras\n",
        "from tensorflow.keras.applications.inception_v3 import InceptionV3\n",
        "from tensorflow.keras.preprocessing.image import ImageDataGenerator\n",
        "from tensorflow.keras.models import Sequential\n",
        "from tensorflow.keras.layers import Conv2D, Flatten, MaxPooling2D, Dense, Dropout, GlobalAveragePooling2D\n",
        "from tensorflow.keras import optimizers, losses\n",
        "from tensorflow.keras.callbacks import ModelCheckpoint\n",
        "from tensorflow.keras.preprocessing import image\n",
        "\n",
        "import pickle  # Importa a biblioteca pickle para manipulação de dados em formato binário\n",
        "import numpy as np  # Importa a biblioteca NumPy para operações matriciais\n",
        "import matplotlib.pyplot as plt  # Importa a biblioteca Matplotlib para plotagem de gráficos\n",
        "\n",
        "import warnings\n",
        "warnings.filterwarnings(\"ignore\")  # Suprime avisos (warnings)"
      ],
      "metadata": {
        "id": "SeEOu2MmZwX9"
      },
      "execution_count": 1,
      "outputs": []
    },
    {
      "cell_type": "code",
      "source": [
        "# Caminho Base para todos os arquivos\n",
        "data_dir = '../content/Fruit-Images-Dataset'"
      ],
      "metadata": {
        "id": "CZ5NFwwGZzG_"
      },
      "execution_count": 2,
      "outputs": []
    },
    {
      "cell_type": "code",
      "source": [
        "# Preparando os Dados\n",
        "# Usando o ImageDataGenerator para carregar as imagens para treinamento e teste do modelo de CNN\n",
        "\n",
        "datagenerator = {\n",
        "    \"train\": ImageDataGenerator(\n",
        "        horizontal_flip=True,  # Realiza inversão horizontal aleatória nas imagens\n",
        "        vertical_flip=True,    # Realiza inversão vertical aleatória nas imagens\n",
        "        rescale=1. / 255,     # Normaliza os valores dos pixels das imagens para o intervalo [0, 1]\n",
        "        validation_split=0.1,  # Define uma divisão de validação de 10% dos dados de treinamento\n",
        "        shear_range=0.1,      # Aplica cisalhamento aleatório nas imagens\n",
        "        zoom_range=0.1,       # Aplica zoom aleatório nas imagens\n",
        "        width_shift_range=0.1,  # Realiza deslocamento aleatório na largura das imagens\n",
        "        height_shift_range=0.1, # Realiza deslocamento aleatório na altura das imagens\n",
        "        rotation_range=30,     # Realiza rotação aleatória das imagens em até 30 graus\n",
        "    ).flow_from_directory(\n",
        "        directory=data_dir + \"/Training\",  # Diretório de treinamento\n",
        "        target_size=(300, 300),  # Redimensiona as imagens para o tamanho alvo de (300, 300) pixels\n",
        "        subset='training',       # Subconjunto de treinamento\n",
        "    ),\n",
        "\n",
        "    \"valid\": ImageDataGenerator(\n",
        "        rescale=1 / 255,         # Normaliza os valores dos pixels das imagens para o intervalo [0, 1]\n",
        "        validation_split=0.1,    # Define uma divisão de validação de 10% dos dados de teste\n",
        "    ).flow_from_directory(\n",
        "        directory=data_dir + \"/Test\",  # Diretório de teste\n",
        "        target_size=(300, 300),      # Redimensiona as imagens para o tamanho alvo de (300, 300) pixels\n",
        "        subset='validation',         # Subconjunto de validação\n",
        "    ),\n",
        "}"
      ],
      "metadata": {
        "colab": {
          "base_uri": "https://localhost:8080/"
        },
        "id": "vKfbEYRpZ9hm",
        "outputId": "a3e6617c-99b5-4af6-eec5-2926eac1f525"
      },
      "execution_count": 3,
      "outputs": [
        {
          "output_type": "stream",
          "name": "stdout",
          "text": [
            "Found 60955 images belonging to 131 classes.\n",
            "Found 2209 images belonging to 131 classes.\n"
          ]
        }
      ]
    },
    {
      "cell_type": "code",
      "source": [
        "# Inicializando o Modelo Base\n",
        "# Inicializa o modelo InceptionV3 (pré-treinado) com a forma de imagem de entrada como (300, 300, 3)\n",
        "base_model = InceptionV3(weights=None, include_top=False, input_shape=(300, 300, 3))\n",
        "\n",
        "# Carregando Pesos para o Modelo InceptionV3\n",
        "base_model.load_weights(\"../content/inception_v3_weights_tf_dim_ordering_tf_kernels_notop.h5\")\n",
        "\n",
        "# Configurando o Treinamento de todas as camadas do modelo InceptionV3 como falso\n",
        "base_model.trainable = False"
      ],
      "metadata": {
        "id": "yCsCye8zbTnD"
      },
      "execution_count": 4,
      "outputs": []
    },
    {
      "cell_type": "code",
      "source": [
        "# Adicionando Camadas ao Final do Modelo\n",
        "# Adicionando algumas camadas extras ao final do modelo de acordo com nossos requisitos\n",
        "model = Sequential([\n",
        "    base_model,  # Modelo InceptionV3 definido anteriormente\n",
        "    GlobalAveragePooling2D(),  # Camada de Global Average Pooling\n",
        "    Dropout(0.15),  # Camada de Dropout com uma taxa de 0.15 (15% de neurônios desativados aleatoriamente)\n",
        "    Dense(1024, activation='relu'),  # Camada densa com 1024 unidades e ativação ReLU\n",
        "    Dense(131, activation='softmax')  # Camada densa com 131 unidades e ativação softmax (6 neurônios de saída para 6 classes)\n",
        "])"
      ],
      "metadata": {
        "id": "y_xFH07yeNsT"
      },
      "execution_count": 5,
      "outputs": []
    },
    {
      "cell_type": "code",
      "source": [
        "# Otimizador Adam\n",
        "# Utilizando o Otimizador Adam para definir a taxa de aprendizado do nosso modelo final\n",
        "opt = optimizers.Adam(learning_rate=0.0001)  # Definindo uma taxa de aprendizado de 0.0001\n",
        "\n",
        "# Compilação e definição dos parâmetros que desejamos que nosso modelo utilize\n",
        "model.compile(loss=\"categorical_crossentropy\", optimizer=opt, metrics=['accuracy'])"
      ],
      "metadata": {
        "id": "e4ufrl8ueRhB"
      },
      "execution_count": 6,
      "outputs": []
    },
    {
      "cell_type": "code",
      "source": [
        "# Visualizando o resumo do modelo\n",
        "model.summary()"
      ],
      "metadata": {
        "id": "vr_LNYo1eUpR"
      },
      "execution_count": null,
      "outputs": []
    },
    {
      "cell_type": "code",
      "source": [
        "# Separando Dados de Treinamento e Teste\n",
        "# Definindo variáveis para o modelo\n",
        "batch_size = 512  # Tamanho do lote (batch size) utilizado durante o treinamento\n",
        "epochs = 1  # Número de épocas (ciclos de treinamento)\n",
        "\n",
        "# Separando os Dados de Treinamento e Teste\n",
        "train_generator = datagenerator[\"train\"]  # Gerador de dados de treinamento\n",
        "valid_generator = datagenerator[\"valid\"]  # Gerador de dados de validação"
      ],
      "metadata": {
        "id": "Cb43y0UgenC_"
      },
      "execution_count": 8,
      "outputs": []
    },
    {
      "cell_type": "code",
      "source": [
        "# Cálculo de variáveis para o modelo\n",
        "steps_per_epoch = train_generator.n // batch_size  # Número de passos por época de treinamento\n",
        "validation_steps = valid_generator.n // batch_size  # Número de passos por época de validação\n",
        "\n",
        "# Exibindo informações sobre os passos por época\n",
        "print(\"steps_per_epoch:\", steps_per_epoch)  # Exibe o número de passos por época de treinamento\n",
        "print(\"validation_steps:\", validation_steps)  # Exibe o número de passos por época de validação"
      ],
      "metadata": {
        "colab": {
          "base_uri": "https://localhost:8080/"
        },
        "id": "AQ2rws1qeqcl",
        "outputId": "3deacc5f-d8f8-422f-bdb7-bf1b4b90a66f"
      },
      "execution_count": 9,
      "outputs": [
        {
          "output_type": "stream",
          "name": "stdout",
          "text": [
            "steps_per_epoch: 119\n",
            "validation_steps: 4\n"
          ]
        }
      ]
    },
    {
      "cell_type": "code",
      "source": [
        "# Utilizando o ModelCheckpoint\n",
        "# Caminho do arquivo para armazenar os modelos treinados\n",
        "filepath = \"./CNN-Models/model_{epoch:02d}-{val_accuracy:.2f}.h5\"\n",
        "\n",
        "# Usando a função ModelCheckpoint para treinar e armazenar todos os melhores modelos\n",
        "checkpoint1 = ModelCheckpoint(\n",
        "    filepath,            # Caminho do arquivo para salvar o modelo\n",
        "    monitor='val_accuracy',  # Monitora a métrica de acurácia na validação\n",
        "    verbose=1,           # Exibe informações durante o treinamento\n",
        "    save_best_only=True,  # Salva apenas o melhor modelo com base na métrica monitorada\n",
        "    mode='max'           # Modo de otimização para a métrica (maximizar a acurácia)\n",
        ")\n",
        "\n",
        "callbacks_list = [checkpoint1]  # Lista de callbacks utilizados durante o treinamento"
      ],
      "metadata": {
        "id": "nizc3y3PeuAM"
      },
      "execution_count": 10,
      "outputs": []
    },
    {
      "cell_type": "code",
      "source": [
        "# Treinando o Modelo\n",
        "history = model.fit_generator(\n",
        "    generator=train_generator,  # Gerador de dados de treinamento\n",
        "    epochs=epochs,             # Número de épocas de treinamento\n",
        "    steps_per_epoch=steps_per_epoch,  # Número de passos por época de treinamento\n",
        "    validation_data=valid_generator,  # Dados de validação\n",
        "    validation_steps=validation_steps,  # Número de passos por época de validação\n",
        "    callbacks=callbacks_list  # Lista de callbacks a serem utilizados durante o treinamento\n",
        ")"
      ],
      "metadata": {
        "colab": {
          "base_uri": "https://localhost:8080/"
        },
        "id": "VKlspurfezJL",
        "outputId": "d17834b2-e28a-4572-e8b3-ed662ddd5bf2"
      },
      "execution_count": 11,
      "outputs": [
        {
          "output_type": "stream",
          "name": "stdout",
          "text": [
            "119/119 [==============================] - ETA: 0s - loss: 4.2302 - accuracy: 0.1610\n",
            "Epoch 1: val_accuracy improved from -inf to 0.39062, saving model to ./CNN-Models/model_01-0.39.h5\n",
            "119/119 [==============================] - 1024s 9s/step - loss: 4.2302 - accuracy: 0.1610 - val_loss: 3.2558 - val_accuracy: 0.3906\n"
          ]
        }
      ]
    },
    {
      "cell_type": "code",
      "source": [
        "# Plotando as métricas finais de treinamento\n",
        "acc = history.history['accuracy']  # Precisão de treinamento\n",
        "val_acc = history.history['val_accuracy']  # Precisão de validação\n",
        "\n",
        "loss = history.history['loss']  # Perda de treinamento\n",
        "val_loss = history.history['val_loss']  # Perda de validação\n",
        "\n",
        "# ________________ Gráfico 1 -------------------------\n",
        "# Gráfico de Precisão\n",
        "\n",
        "plt.figure(figsize=(8, 8))\n",
        "plt.subplot(2, 1, 1)\n",
        "plt.plot(acc, label='Precisão de Treinamento')\n",
        "plt.plot(val_acc, label='Precisão de Validação')\n",
        "plt.legend(loc='lower right')\n",
        "plt.ylabel('Precisão')\n",
        "plt.ylim([min(plt.ylim()), 1])\n",
        "plt.title('Precisão de Treinamento e Validação')\n",
        "\n",
        "# ________________ Gráfico 2 -------------------------\n",
        "# Gráfico de Perda\n",
        "\n",
        "plt.subplot(2, 1, 2)\n",
        "plt.plot(loss, label='Perda de Treinamento')\n",
        "plt.plot(val_loss, label='Perda de Validação')\n",
        "plt.legend(loc='upper right')\n",
        "plt.ylabel('Entropia Cruzada')\n",
        "plt.ylim([0, max(plt.ylim())])\n",
        "plt.title('Perda de Treinamento e Validação')\n",
        "plt.show()"
      ],
      "metadata": {
        "colab": {
          "base_uri": "https://localhost:8080/",
          "height": 699
        },
        "id": "OSFlwWU7k3mb",
        "outputId": "f31398db-b079-4aa1-8147-bd90917be807"
      },
      "execution_count": 12,
      "outputs": [
        {
          "output_type": "display_data",
          "data": {
            "text/plain": [
              "<Figure size 800x800 with 2 Axes>"
            ],
            "image/png": "[encoded data removed]"
          },
          "metadata": {}
        }
      ]
    },
    {
      "cell_type": "code",
      "source": [
        "# Testando o modelo final\n",
        "# Calcula a Perda e Precisão nos Dados de Validação\n",
        "test_loss, test_acc = model.evaluate(valid_generator)  # Avalia o modelo nos dados de validação\n",
        "print('precisão nos testes : ', test_acc)  # Exibe a precisão nos testes"
      ],
      "metadata": {
        "colab": {
          "base_uri": "https://localhost:8080/"
        },
        "id": "ZP4wuC9CkaJd",
        "outputId": "5f799816-8103-4702-c262-185d5333096d"
      },
      "execution_count": 13,
      "outputs": [
        {
          "output_type": "stream",
          "name": "stdout",
          "text": [
            "70/70 [==============================] - 509s 7s/step - loss: 3.3932 - accuracy: 0.3708\n",
            "precisão nos testes :  0.37075600028038025\n"
          ]
        }
      ]
    }
  ]
}