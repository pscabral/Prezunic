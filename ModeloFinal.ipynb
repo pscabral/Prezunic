{
  "nbformat": 4,
  "nbformat_minor": 0,
  "metadata": {
    "colab": {
      "provenance": [],
      "gpuType": "T4",
      "authorship_tag": "ABX9TyN/h/jF3MhT3AjxadPOvfb8",
      "include_colab_link": true
    },
    "kernelspec": {
      "name": "python3",
      "display_name": "Python 3"
    },
    "language_info": {
      "name": "python"
    },
    "accelerator": "GPU"
  },
  "cells": [
    {
      "cell_type": "markdown",
      "metadata": {
        "id": "view-in-github",
        "colab_type": "text"
      },
      "source": [
        "<a href=\"https://colab.research.google.com/github/pscabral/Prezunic/blob/main/ModeloFinal.ipynb\" target=\"_parent\"><img src=\"https://colab.research.google.com/assets/colab-badge.svg\" alt=\"Open In Colab\"/></a>"
      ]
    },
    {
      "cell_type": "code",
      "execution_count": 1,
      "metadata": {
        "colab": {
          "base_uri": "https://localhost:8080/"
        },
        "id": "hjnDpvkZk-CB",
        "outputId": "daf5fe40-0498-4ec7-e201-adcbcb4cfabe"
      },
      "outputs": [
        {
          "output_type": "stream",
          "name": "stdout",
          "text": [
            "Cloning into 'Fruit-Images-Dataset'...\n",
            "remote: Enumerating objects: 385858, done.\u001b[K\n",
            "remote: Counting objects: 100% (8693/8693), done.\u001b[K\n",
            "remote: Compressing objects: 100% (8659/8659), done.\u001b[K\n",
            "remote: Total 385858 (delta 37), reused 8688 (delta 34), pack-reused 377165\u001b[K\n",
            "Receiving objects: 100% (385858/385858), 2.10 GiB | 7.71 MiB/s, done.\n",
            "Resolving deltas: 100% (1197/1197), done.\n",
            "Updating files: 100% (90503/90503), done.\n"
          ]
        }
      ],
      "source": [
        "!git clone https://github.com/Horea94/Fruit-Images-Dataset"
      ]
    },
    {
      "cell_type": "code",
      "source": [
        "import matplotlib.pyplot as plt\n",
        "from glob import glob\n",
        "\n",
        "from keras.models import Sequential\n",
        "from keras.layers import Conv2D, MaxPooling2D, Activation, Dropout, Flatten, Dense\n",
        "from keras.preprocessing.image import ImageDataGenerator, img_to_array, load_img"
      ],
      "metadata": {
        "id": "no797SvUDE1X"
      },
      "execution_count": 67,
      "outputs": []
    },
    {
      "cell_type": "code",
      "source": [
        "train_path = \"../content/Fruit-Images-Dataset/Training\"\n",
        "test_path = \"../content/Fruit-Images-Dataset/Test\"\n",
        "# a sample apple braeburn image\n",
        "\n",
        "img = load_img(train_path + \"/Apple Braeburn/0_100.jpg\")\n",
        "plt.imshow(img)\n",
        "plt.axis(\"off\")\n",
        "plt.show()"
      ],
      "metadata": {
        "id": "zr9-DSLNDGLF"
      },
      "execution_count": null,
      "outputs": []
    },
    {
      "cell_type": "code",
      "source": [
        "# image matrix shape with rgb\n",
        "x = img_to_array(img)\n",
        "x.shape"
      ],
      "metadata": {
        "colab": {
          "base_uri": "https://localhost:8080/"
        },
        "id": "UmkCU4fIDs9y",
        "outputId": "ccc4c21d-6835-4750-b773-fc19d228902b"
      },
      "execution_count": 72,
      "outputs": [
        {
          "output_type": "execute_result",
          "data": {
            "text/plain": [
              "(100, 100, 3)"
            ]
          },
          "metadata": {},
          "execution_count": 72
        }
      ]
    },
    {
      "cell_type": "code",
      "source": [
        "# how many classes are there in dataset?\n",
        "classNames = glob(train_path + \"/*\")\n",
        "numberOfClass = len(classNames)\n",
        "print(\"The number of class:\", numberOfClass)"
      ],
      "metadata": {
        "colab": {
          "base_uri": "https://localhost:8080/"
        },
        "id": "70PMydlTD9jt",
        "outputId": "fb20ad48-94ea-42f6-d3e6-bf3fd4685fdb"
      },
      "execution_count": 73,
      "outputs": [
        {
          "output_type": "stream",
          "name": "stdout",
          "text": [
            "The number of class: 131\n"
          ]
        }
      ]
    },
    {
      "cell_type": "code",
      "source": [
        "model = Sequential()\n",
        "\n",
        "model.add(Conv2D(32, (3,3), input_shape = x.shape))\n",
        "model.add(Activation(\"relu\"))\n",
        "model.add(MaxPooling2D())\n",
        "\n",
        "model.add(Conv2D(32, (3,3)))\n",
        "model.add(Activation(\"relu\"))\n",
        "model.add(MaxPooling2D())\n",
        "\n",
        "model.add(Conv2D(64, (3,3)))\n",
        "model.add(Activation(\"relu\"))\n",
        "model.add(MaxPooling2D())\n",
        "\n",
        "model.add(Flatten())\n",
        "model.add(Dense(1024))\n",
        "model.add(Activation(\"relu\"))\n",
        "model.add(Dropout(0.5))\n",
        "model.add(Dense(numberOfClass)) # output layer\n",
        "model.add(Activation(\"softmax\"))"
      ],
      "metadata": {
        "id": "idWbtjFtEA1h"
      },
      "execution_count": 74,
      "outputs": []
    },
    {
      "cell_type": "code",
      "source": [
        "model.compile(loss = \"categorical_crossentropy\",\n",
        "              optimizer = \"rmsprop\",\n",
        "              metrics = [\"accuracy\"])"
      ],
      "metadata": {
        "id": "t43qLmveECPR"
      },
      "execution_count": 75,
      "outputs": []
    },
    {
      "cell_type": "code",
      "source": [
        "batch_size = 32"
      ],
      "metadata": {
        "id": "8n-5N0bfEHls"
      },
      "execution_count": 76,
      "outputs": []
    },
    {
      "cell_type": "code",
      "source": [
        "train_datagen = ImageDataGenerator(rescale = 1./255,\n",
        "                   shear_range = 0.3,\n",
        "                   horizontal_flip = True,\n",
        "                   zoom_range = 0.3)\n",
        "\n",
        "test_datagen = ImageDataGenerator(rescale = 1./255)\n",
        "\n",
        "train_generator = train_datagen.flow_from_directory(train_path, target_size = x.shape[:2], batch_size = batch_size, color_mode = \"rgb\", class_mode = \"categorical\")\n",
        "test_generator = test_datagen.flow_from_directory(test_path, target_size = x.shape[:2], batch_size = batch_size, color_mode = \"rgb\", class_mode = \"categorical\")"
      ],
      "metadata": {
        "colab": {
          "base_uri": "https://localhost:8080/"
        },
        "id": "hOztDTjcEImk",
        "outputId": "0599db09-6914-47ef-9fe1-aacef08c5a43"
      },
      "execution_count": 77,
      "outputs": [
        {
          "output_type": "stream",
          "name": "stdout",
          "text": [
            "Found 67692 images belonging to 131 classes.\n",
            "Found 22688 images belonging to 131 classes.\n"
          ]
        }
      ]
    },
    {
      "cell_type": "code",
      "source": [
        "history = model.fit_generator(generator = train_generator,\n",
        "                    steps_per_epoch = 1600 // batch_size,\n",
        "                    epochs = 50,\n",
        "                    validation_data = test_generator,\n",
        "                    validation_steps = 800 // batch_size)"
      ],
      "metadata": {
        "id": "1MPycXKtEOVt"
      },
      "execution_count": null,
      "outputs": []
    },
    {
      "cell_type": "code",
      "source": [
        "def save_model(fileName):\n",
        "    model.save_weights(fileName + \".h5\")\n",
        "\n",
        "    import json\n",
        "    with open(fileName + \".json\", \"w\") as f:\n",
        "        json.dump(history.history, f)\n",
        "\n",
        "def load_json(fileName):\n",
        "    import codecs\n",
        "    import json\n",
        "    with codecs.open(fileName + \".json\", \"r\", encoding=\"utf-8\") as f:\n",
        "        h = json.loads(f.read())\n",
        "\n",
        "    return h\n",
        "\n",
        "# Descomente estas linhas para salvar e carregar o modelo\n",
        "save_model(\"/content/test\")\n",
        "h = load_json(\"/content/test\")"
      ],
      "metadata": {
        "id": "5XBi5qEoJuko"
      },
      "execution_count": 89,
      "outputs": []
    },
    {
      "cell_type": "code",
      "source": [
        "print(history.history.keys())\n",
        "plt.figure()\n",
        "plt.plot(history.history[\"loss\"], label = \"Train Loss\")\n",
        "plt.plot(history.history[\"val_loss\"], label = \"Validation Loss\")\n",
        "plt.legend()\n",
        "plt.show()"
      ],
      "metadata": {
        "id": "yoHEj-ZRKz8q"
      },
      "execution_count": null,
      "outputs": []
    },
    {
      "cell_type": "code",
      "source": [
        "plt.figure()\n",
        "plt.plot(history.history[\"accuracy\"], label = \"Train Accuracy\")\n",
        "plt.plot(history.history[\"val_accuracy\"], label = \"Validation Accuracy\")\n",
        "plt.legend()\n",
        "plt.show()"
      ],
      "metadata": {
        "id": "cE8nGOauLF8P"
      },
      "execution_count": null,
      "outputs": []
    },
    {
      "cell_type": "code",
      "source": [
        "# import vgg16 model from keras library\n",
        "from keras.applications.vgg16 import VGG16\n",
        "\n",
        "vgg = VGG16()"
      ],
      "metadata": {
        "id": "NVfjI60YLPEN"
      },
      "execution_count": 92,
      "outputs": []
    },
    {
      "cell_type": "code",
      "source": [
        "vgg.summary()"
      ],
      "metadata": {
        "id": "lsP0-FtQLSnL"
      },
      "execution_count": null,
      "outputs": []
    },
    {
      "cell_type": "code",
      "source": [
        "# all layers of vgg16\n",
        "vgg_layer_list = vgg.layers\n",
        "vgg_layer_list"
      ],
      "metadata": {
        "id": "hZFMdvGdLWMx"
      },
      "execution_count": null,
      "outputs": []
    },
    {
      "cell_type": "code",
      "source": [
        "# drop last dense layer that has 1000 class-prediction layers\n",
        "model = Sequential()\n",
        "for i in range(len(vgg_layer_list)-3):\n",
        "    model.add(vgg_layer_list[i])\n",
        "model.summary()"
      ],
      "metadata": {
        "id": "cwjHOG-mLZWR"
      },
      "execution_count": null,
      "outputs": []
    },
    {
      "cell_type": "code",
      "source": [
        "# freeze layers\n",
        "for layers in model.layers:\n",
        "    layers.trainable = False\n",
        "\n",
        "model.add(Dense(4096, activation = \"relu\"))\n",
        "model.add(Dense(4096, activation = \"relu\"))\n",
        "\n",
        "# adding last layer as a trainable layer\n",
        "model.add(Dense(numberOfClass, activation = \"softmax\"))\n",
        "# last model's summary\n",
        "model.summary()"
      ],
      "metadata": {
        "id": "BeWZVP2vLi9j"
      },
      "execution_count": null,
      "outputs": []
    },
    {
      "cell_type": "code",
      "source": [
        "model.compile(loss = \"categorical_crossentropy\",\n",
        "              optimizer = \"rmsprop\",\n",
        "              metrics = [\"accuracy\"])"
      ],
      "metadata": {
        "id": "EyVECfvzLnBq"
      },
      "execution_count": 97,
      "outputs": []
    },
    {
      "cell_type": "code",
      "source": [
        "# re-generate images with (224, 224) target size\n",
        "train_generator = train_datagen.flow_from_directory(train_path, target_size = (224, 224), batch_size = batch_size, color_mode = \"rgb\", class_mode = \"categorical\")\n",
        "test_generator = test_datagen.flow_from_directory(test_path, target_size = (224, 224), batch_size = batch_size, color_mode = \"rgb\", class_mode = \"categorical\")\n",
        "\n",
        "history = model.fit_generator(generator = train_generator,\n",
        "                    steps_per_epoch = 1600 // batch_size,\n",
        "                    epochs = 30,\n",
        "                    validation_data = test_generator,\n",
        "                    validation_steps = 800 // batch_size)"
      ],
      "metadata": {
        "id": "fgw0_QbuLsMm"
      },
      "execution_count": null,
      "outputs": []
    },
    {
      "cell_type": "code",
      "source": [
        "print(history.history.keys())\n",
        "plt.figure()\n",
        "plt.plot(history.history[\"loss\"], label = \"Train Loss\")\n",
        "plt.plot(history.history[\"val_loss\"], label = \"Validation Loss\")\n",
        "plt.legend()\n",
        "plt.show()"
      ],
      "metadata": {
        "colab": {
          "base_uri": "https://localhost:8080/",
          "height": 447
        },
        "id": "q0Owk4TfQPPX",
        "outputId": "cfc6610d-509e-4763-8c55-27f2b0bd95f3"
      },
      "execution_count": 99,
      "outputs": [
        {
          "output_type": "stream",
          "name": "stdout",
          "text": [
            "dict_keys(['loss', 'accuracy', 'val_loss', 'val_accuracy'])\n"
          ]
        },
        {
          "output_type": "display_data",
          "data": {
            "text/plain": [
              "<Figure size 640x480 with 1 Axes>"
            ],
            "image/png": "[encoded data removed]"
          },
          "metadata": {}
        }
      ]
    },
    {
      "cell_type": "code",
      "source": [
        "plt.figure()\n",
        "plt.plot(history.history[\"accuracy\"], label = \"Train Accuracy\")\n",
        "plt.plot(history.history[\"val_accuracy\"], label = \"Validation Accuracy\")\n",
        "plt.legend()\n",
        "plt.show()"
      ],
      "metadata": {
        "colab": {
          "base_uri": "https://localhost:8080/",
          "height": 430
        },
        "id": "3cvt70auQYae",
        "outputId": "6af4a95d-c2f0-43f7-8e51-2a01a3c69514"
      },
      "execution_count": 100,
      "outputs": [
        {
          "output_type": "display_data",
          "data": {
            "text/plain": [
              "<Figure size 640x480 with 1 Axes>"
            ],
            "image/png": "[encoded data removed]"
          },
          "metadata": {}
        }
      ]
    }
  ]
}